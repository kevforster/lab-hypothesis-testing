{
 "cells": [
  {
   "cell_type": "markdown",
   "metadata": {},
   "source": [
    "# Before your start:\n",
    "- Read the README.md file\n",
    "- Comment as much as you can and use the resources (README.md file)\n",
    "- Happy learning!"
   ]
  },
  {
   "cell_type": "code",
   "execution_count": 74,
   "metadata": {},
   "outputs": [],
   "source": [
    "# import numpy and pandas\n",
    "import numpy as np\n",
    "import pandas as pd\n",
    "from sqlalchemy import create_engine\n",
    "from scipy.stats import ttest_1samp, ttest_rel, ttest_ind\n",
    "from scipy.stats import f_oneway\n",
    "import statistics\n",
    "from scipy import stats\n"
   ]
  },
  {
   "cell_type": "markdown",
   "metadata": {},
   "source": [
    "# Challenge 1 - Exploring the Data\n",
    "\n",
    "In this challenge, we will examine all salaries of employees of the City of Chicago. We will start by loading the dataset and examining its contents. Please, load the data using Ironhack's database (db: employees, table: employees_advanced)."
   ]
  },
  {
   "cell_type": "code",
   "execution_count": 4,
   "metadata": {},
   "outputs": [],
   "source": [
    "# Your code here:\n",
    "driver   = 'mysql+pymysql:'\n",
    "user     = 'root'\n",
    "password = 'Ironhack12'\n",
    "ip       = '127.0.0.1'\n",
    "database = 'employees'\n",
    "connection_string = f'{driver}//{user}:{password}@{ip}/{database}'\n",
    "engine = create_engine(connection_string)\n"
   ]
  },
  {
   "cell_type": "code",
   "execution_count": 6,
   "metadata": {},
   "outputs": [],
   "source": [
    "df=pd.read_sql('SELECT * FROM employees_advanced', engine)"
   ]
  },
  {
   "cell_type": "markdown",
   "metadata": {},
   "source": [
    "Examine the `salaries` dataset using the `head` function below."
   ]
  },
  {
   "cell_type": "code",
   "execution_count": 19,
   "metadata": {},
   "outputs": [
    {
     "data": {
      "text/html": "<div>\n<style scoped>\n    .dataframe tbody tr th:only-of-type {\n        vertical-align: middle;\n    }\n\n    .dataframe tbody tr th {\n        vertical-align: top;\n    }\n\n    .dataframe thead th {\n        text-align: right;\n    }\n</style>\n<table border=\"1\" class=\"dataframe\">\n  <thead>\n    <tr style=\"text-align: right;\">\n      <th></th>\n      <th>Name</th>\n      <th>Job Titles</th>\n      <th>Department</th>\n      <th>Full or Part-Time</th>\n      <th>Salary or Hourly</th>\n      <th>Typical Hours</th>\n      <th>Annual Salary</th>\n      <th>Hourly Rate</th>\n    </tr>\n  </thead>\n  <tbody>\n    <tr>\n      <th>0</th>\n      <td>AARON,  JEFFERY M</td>\n      <td>SERGEANT</td>\n      <td>POLICE</td>\n      <td>F</td>\n      <td>Salary</td>\n      <td>NaN</td>\n      <td>101442.0</td>\n      <td>NaN</td>\n    </tr>\n    <tr>\n      <th>1</th>\n      <td>AARON,  KARINA</td>\n      <td>POLICE OFFICER (ASSIGNED AS DETECTIVE)</td>\n      <td>POLICE</td>\n      <td>F</td>\n      <td>Salary</td>\n      <td>NaN</td>\n      <td>94122.0</td>\n      <td>NaN</td>\n    </tr>\n    <tr>\n      <th>2</th>\n      <td>AARON,  KIMBERLEI R</td>\n      <td>CHIEF CONTRACT EXPEDITER</td>\n      <td>GENERAL SERVICES</td>\n      <td>F</td>\n      <td>Salary</td>\n      <td>NaN</td>\n      <td>101592.0</td>\n      <td>NaN</td>\n    </tr>\n    <tr>\n      <th>3</th>\n      <td>ABAD JR,  VICENTE M</td>\n      <td>CIVIL ENGINEER IV</td>\n      <td>WATER MGMNT</td>\n      <td>F</td>\n      <td>Salary</td>\n      <td>NaN</td>\n      <td>110064.0</td>\n      <td>NaN</td>\n    </tr>\n    <tr>\n      <th>4</th>\n      <td>ABASCAL,  REECE E</td>\n      <td>TRAFFIC CONTROL AIDE-HOURLY</td>\n      <td>OEMC</td>\n      <td>P</td>\n      <td>Hourly</td>\n      <td>20.0</td>\n      <td>NaN</td>\n      <td>19.86</td>\n    </tr>\n  </tbody>\n</table>\n</div>",
      "text/plain": "                  Name                              Job Titles  \\\n0    AARON,  JEFFERY M                                SERGEANT   \n1      AARON,  KARINA   POLICE OFFICER (ASSIGNED AS DETECTIVE)   \n2  AARON,  KIMBERLEI R                CHIEF CONTRACT EXPEDITER   \n3  ABAD JR,  VICENTE M                       CIVIL ENGINEER IV   \n4    ABASCAL,  REECE E             TRAFFIC CONTROL AIDE-HOURLY   \n\n         Department Full or Part-Time Salary or Hourly  Typical Hours  \\\n0            POLICE                 F           Salary            NaN   \n1            POLICE                 F           Salary            NaN   \n2  GENERAL SERVICES                 F           Salary            NaN   \n3       WATER MGMNT                 F           Salary            NaN   \n4              OEMC                 P           Hourly           20.0   \n\n   Annual Salary  Hourly Rate  \n0       101442.0          NaN  \n1        94122.0          NaN  \n2       101592.0          NaN  \n3       110064.0          NaN  \n4            NaN        19.86  "
     },
     "execution_count": 19,
     "metadata": {},
     "output_type": "execute_result"
    }
   ],
   "source": [
    "# Your code here:\n",
    "df.head()\n",
    "\n"
   ]
  },
  {
   "cell_type": "markdown",
   "metadata": {},
   "source": [
    "We see from looking at the `head` function that there is quite a bit of missing data. Let's examine how much missing data is in each column. Produce this output in the cell below"
   ]
  },
  {
   "cell_type": "code",
   "execution_count": 12,
   "metadata": {},
   "outputs": [
    {
     "data": {
      "text/plain": "Name                     0\nJob Titles               0\nDepartment               0\nFull or Part-Time        0\nSalary or Hourly         0\nTypical Hours        25161\nAnnual Salary         8022\nHourly Rate          25161\ndtype: int64"
     },
     "execution_count": 12,
     "metadata": {},
     "output_type": "execute_result"
    }
   ],
   "source": [
    "# Your code here:\n",
    "df.isnull().sum()\n",
    "\n"
   ]
  },
  {
   "cell_type": "markdown",
   "metadata": {},
   "source": [
    "Let's also look at the count of hourly vs. salaried employees. Write the code in the cell below"
   ]
  },
  {
   "cell_type": "code",
   "execution_count": 13,
   "metadata": {},
   "outputs": [
    {
     "data": {
      "text/plain": "Name                  object\nJob Titles            object\nDepartment            object\nFull or Part-Time     object\nSalary or Hourly      object\nTypical Hours        float64\nAnnual Salary        float64\nHourly Rate          float64\ndtype: object"
     },
     "execution_count": 13,
     "metadata": {},
     "output_type": "execute_result"
    }
   ],
   "source": [
    "# Your code here:\n",
    "df.dtypes\n",
    "\n"
   ]
  },
  {
   "cell_type": "code",
   "execution_count": 17,
   "metadata": {},
   "outputs": [
    {
     "data": {
      "text/plain": "array(['Salary', 'Hourly'], dtype=object)"
     },
     "execution_count": 17,
     "metadata": {},
     "output_type": "execute_result"
    }
   ],
   "source": [
    "df['Salary or Hourly'].unique()"
   ]
  },
  {
   "cell_type": "markdown",
   "metadata": {},
   "source": [
    "What this information indicates is that the table contains information about two types of employees - salaried and hourly. Some columns apply only to one type of employee while other columns only apply to another kind. This is why there are so many missing values. Therefore, we will not do anything to handle the missing values."
   ]
  },
  {
   "cell_type": "markdown",
   "metadata": {},
   "source": [
    "There are different departments in the city. List all departments and the count of employees in each department."
   ]
  },
  {
   "cell_type": "code",
   "execution_count": 22,
   "metadata": {},
   "outputs": [
    {
     "data": {
      "text/html": "<div>\n<style scoped>\n    .dataframe tbody tr th:only-of-type {\n        vertical-align: middle;\n    }\n\n    .dataframe tbody tr th {\n        vertical-align: top;\n    }\n\n    .dataframe thead th {\n        text-align: right;\n    }\n</style>\n<table border=\"1\" class=\"dataframe\">\n  <thead>\n    <tr style=\"text-align: right;\">\n      <th></th>\n      <th>Name</th>\n    </tr>\n    <tr>\n      <th>Department</th>\n      <th></th>\n    </tr>\n  </thead>\n  <tbody>\n    <tr>\n      <th>ADMIN HEARNG</th>\n      <td>39</td>\n    </tr>\n    <tr>\n      <th>ANIMAL CONTRL</th>\n      <td>81</td>\n    </tr>\n    <tr>\n      <th>AVIATION</th>\n      <td>1629</td>\n    </tr>\n    <tr>\n      <th>BOARD OF ELECTION</th>\n      <td>107</td>\n    </tr>\n    <tr>\n      <th>BOARD OF ETHICS</th>\n      <td>8</td>\n    </tr>\n    <tr>\n      <th>BUDGET &amp; MGMT</th>\n      <td>46</td>\n    </tr>\n    <tr>\n      <th>BUILDINGS</th>\n      <td>269</td>\n    </tr>\n    <tr>\n      <th>BUSINESS AFFAIRS</th>\n      <td>171</td>\n    </tr>\n    <tr>\n      <th>CITY CLERK</th>\n      <td>84</td>\n    </tr>\n    <tr>\n      <th>CITY COUNCIL</th>\n      <td>411</td>\n    </tr>\n    <tr>\n      <th>COMMUNITY DEVELOPMENT</th>\n      <td>207</td>\n    </tr>\n    <tr>\n      <th>COPA</th>\n      <td>116</td>\n    </tr>\n    <tr>\n      <th>CULTURAL AFFAIRS</th>\n      <td>65</td>\n    </tr>\n    <tr>\n      <th>DISABILITIES</th>\n      <td>28</td>\n    </tr>\n    <tr>\n      <th>DoIT</th>\n      <td>99</td>\n    </tr>\n    <tr>\n      <th>FAMILY &amp; SUPPORT</th>\n      <td>615</td>\n    </tr>\n    <tr>\n      <th>FINANCE</th>\n      <td>560</td>\n    </tr>\n    <tr>\n      <th>FIRE</th>\n      <td>4641</td>\n    </tr>\n    <tr>\n      <th>GENERAL SERVICES</th>\n      <td>980</td>\n    </tr>\n    <tr>\n      <th>HEALTH</th>\n      <td>488</td>\n    </tr>\n    <tr>\n      <th>HUMAN RELATIONS</th>\n      <td>16</td>\n    </tr>\n    <tr>\n      <th>HUMAN RESOURCES</th>\n      <td>79</td>\n    </tr>\n    <tr>\n      <th>INSPECTOR GEN</th>\n      <td>87</td>\n    </tr>\n    <tr>\n      <th>LAW</th>\n      <td>407</td>\n    </tr>\n    <tr>\n      <th>LICENSE APPL COMM</th>\n      <td>1</td>\n    </tr>\n    <tr>\n      <th>MAYOR'S OFFICE</th>\n      <td>85</td>\n    </tr>\n    <tr>\n      <th>OEMC</th>\n      <td>2102</td>\n    </tr>\n    <tr>\n      <th>POLICE</th>\n      <td>13414</td>\n    </tr>\n    <tr>\n      <th>POLICE BOARD</th>\n      <td>2</td>\n    </tr>\n    <tr>\n      <th>PROCUREMENT</th>\n      <td>92</td>\n    </tr>\n    <tr>\n      <th>PUBLIC LIBRARY</th>\n      <td>1015</td>\n    </tr>\n    <tr>\n      <th>STREETS &amp; SAN</th>\n      <td>2198</td>\n    </tr>\n    <tr>\n      <th>TRANSPORTN</th>\n      <td>1140</td>\n    </tr>\n    <tr>\n      <th>TREASURER</th>\n      <td>22</td>\n    </tr>\n    <tr>\n      <th>WATER MGMNT</th>\n      <td>1879</td>\n    </tr>\n  </tbody>\n</table>\n</div>",
      "text/plain": "                        Name\nDepartment                  \nADMIN HEARNG              39\nANIMAL CONTRL             81\nAVIATION                1629\nBOARD OF ELECTION        107\nBOARD OF ETHICS            8\nBUDGET & MGMT             46\nBUILDINGS                269\nBUSINESS AFFAIRS         171\nCITY CLERK                84\nCITY COUNCIL             411\nCOMMUNITY DEVELOPMENT    207\nCOPA                     116\nCULTURAL AFFAIRS          65\nDISABILITIES              28\nDoIT                      99\nFAMILY & SUPPORT         615\nFINANCE                  560\nFIRE                    4641\nGENERAL SERVICES         980\nHEALTH                   488\nHUMAN RELATIONS           16\nHUMAN RESOURCES           79\nINSPECTOR GEN             87\nLAW                      407\nLICENSE APPL COMM          1\nMAYOR'S OFFICE            85\nOEMC                    2102\nPOLICE                 13414\nPOLICE BOARD               2\nPROCUREMENT               92\nPUBLIC LIBRARY          1015\nSTREETS & SAN           2198\nTRANSPORTN              1140\nTREASURER                 22\nWATER MGMNT             1879"
     },
     "execution_count": 22,
     "metadata": {},
     "output_type": "execute_result"
    }
   ],
   "source": [
    "# Your code here:\n",
    "df.groupby(\"Department\").agg({\"Name\":'count'})\n",
    "\n",
    "\n"
   ]
  },
  {
   "cell_type": "markdown",
   "metadata": {},
   "source": [
    "# Challenge 2 - Hypothesis Tests\n",
    "\n",
    "In this section of the lab, we will test whether the hourly wage of all hourly workers is significantly different from $30/hr. Import the correct one sample test function from scipy and perform the hypothesis test for a 95% two sided confidence interval."
   ]
  },
  {
   "cell_type": "code",
   "execution_count": 27,
   "metadata": {},
   "outputs": [
    {
     "data": {
      "text/html": "<div>\n<style scoped>\n    .dataframe tbody tr th:only-of-type {\n        vertical-align: middle;\n    }\n\n    .dataframe tbody tr th {\n        vertical-align: top;\n    }\n\n    .dataframe thead th {\n        text-align: right;\n    }\n</style>\n<table border=\"1\" class=\"dataframe\">\n  <thead>\n    <tr style=\"text-align: right;\">\n      <th></th>\n      <th>Name</th>\n      <th>Job Titles</th>\n      <th>Department</th>\n      <th>Full or Part-Time</th>\n      <th>Salary or Hourly</th>\n      <th>Typical Hours</th>\n      <th>Annual Salary</th>\n      <th>Hourly Rate</th>\n    </tr>\n  </thead>\n  <tbody>\n    <tr>\n      <th>4</th>\n      <td>ABASCAL,  REECE E</td>\n      <td>TRAFFIC CONTROL AIDE-HOURLY</td>\n      <td>OEMC</td>\n      <td>P</td>\n      <td>Hourly</td>\n      <td>20.0</td>\n      <td>NaN</td>\n      <td>19.86</td>\n    </tr>\n    <tr>\n      <th>6</th>\n      <td>ABBATACOLA,  ROBERT J</td>\n      <td>ELECTRICAL MECHANIC</td>\n      <td>AVIATION</td>\n      <td>F</td>\n      <td>Hourly</td>\n      <td>40.0</td>\n      <td>NaN</td>\n      <td>46.10</td>\n    </tr>\n    <tr>\n      <th>7</th>\n      <td>ABBATE,  JOSEPH L</td>\n      <td>POOL MOTOR TRUCK DRIVER</td>\n      <td>STREETS &amp; SAN</td>\n      <td>F</td>\n      <td>Hourly</td>\n      <td>40.0</td>\n      <td>NaN</td>\n      <td>35.60</td>\n    </tr>\n    <tr>\n      <th>10</th>\n      <td>ABBOTT,  BETTY L</td>\n      <td>FOSTER GRANDPARENT</td>\n      <td>FAMILY &amp; SUPPORT</td>\n      <td>P</td>\n      <td>Hourly</td>\n      <td>20.0</td>\n      <td>NaN</td>\n      <td>2.65</td>\n    </tr>\n    <tr>\n      <th>18</th>\n      <td>ABDULLAH,  LAKENYA N</td>\n      <td>CROSSING GUARD</td>\n      <td>OEMC</td>\n      <td>P</td>\n      <td>Hourly</td>\n      <td>20.0</td>\n      <td>NaN</td>\n      <td>17.68</td>\n    </tr>\n    <tr>\n      <th>19</th>\n      <td>ABDULLAH,  RASHAD</td>\n      <td>ELECTRICAL MECHANIC (AUTOMOTIVE)</td>\n      <td>GENERAL SERVICES</td>\n      <td>F</td>\n      <td>Hourly</td>\n      <td>40.0</td>\n      <td>NaN</td>\n      <td>46.10</td>\n    </tr>\n    <tr>\n      <th>21</th>\n      <td>ABDUL-SHAKUR,  TAHIR</td>\n      <td>GENERAL LABORER - DSS</td>\n      <td>STREETS &amp; SAN</td>\n      <td>F</td>\n      <td>Hourly</td>\n      <td>40.0</td>\n      <td>NaN</td>\n      <td>21.43</td>\n    </tr>\n    <tr>\n      <th>24</th>\n      <td>ABERCROMBIE,  TIMOTHY</td>\n      <td>MOTOR TRUCK DRIVER</td>\n      <td>STREETS &amp; SAN</td>\n      <td>F</td>\n      <td>Hourly</td>\n      <td>40.0</td>\n      <td>NaN</td>\n      <td>35.60</td>\n    </tr>\n    <tr>\n      <th>26</th>\n      <td>ABIOYE,  ADEWOLE A</td>\n      <td>LIBRARY ASSOCIATE - HOURLY</td>\n      <td>PUBLIC LIBRARY</td>\n      <td>P</td>\n      <td>Hourly</td>\n      <td>20.0</td>\n      <td>NaN</td>\n      <td>25.10</td>\n    </tr>\n    <tr>\n      <th>33</th>\n      <td>ABRAHAMSON,  MICHAEL C</td>\n      <td>STUDENT INTERN - MAYOR'S FELLOWS</td>\n      <td>MAYOR'S OFFICE</td>\n      <td>F</td>\n      <td>Hourly</td>\n      <td>35.0</td>\n      <td>NaN</td>\n      <td>20.00</td>\n    </tr>\n    <tr>\n      <th>36</th>\n      <td>ABRAMS,  DANIELLE T</td>\n      <td>SANITATION LABORER</td>\n      <td>STREETS &amp; SAN</td>\n      <td>F</td>\n      <td>Hourly</td>\n      <td>40.0</td>\n      <td>NaN</td>\n      <td>36.21</td>\n    </tr>\n    <tr>\n      <th>39</th>\n      <td>ABRAMS,  SAMUEL A</td>\n      <td>POOL MOTOR TRUCK DRIVER</td>\n      <td>STREETS &amp; SAN</td>\n      <td>F</td>\n      <td>Hourly</td>\n      <td>40.0</td>\n      <td>NaN</td>\n      <td>35.60</td>\n    </tr>\n    <tr>\n      <th>40</th>\n      <td>ABRAMS,  TIFFANY</td>\n      <td>OPERATING ENGINEER-GROUP C</td>\n      <td>WATER MGMNT</td>\n      <td>F</td>\n      <td>Hourly</td>\n      <td>40.0</td>\n      <td>NaN</td>\n      <td>45.07</td>\n    </tr>\n    <tr>\n      <th>42</th>\n      <td>ABREU,  DILAN</td>\n      <td>SEWER BRICKLAYER</td>\n      <td>WATER MGMNT</td>\n      <td>F</td>\n      <td>Hourly</td>\n      <td>40.0</td>\n      <td>NaN</td>\n      <td>44.88</td>\n    </tr>\n    <tr>\n      <th>48</th>\n      <td>ABRONS,  KENNETH L</td>\n      <td>ELECTRICAL MECHANIC</td>\n      <td>AVIATION</td>\n      <td>F</td>\n      <td>Hourly</td>\n      <td>40.0</td>\n      <td>NaN</td>\n      <td>46.10</td>\n    </tr>\n    <tr>\n      <th>52</th>\n      <td>ABUHASHISH,  AWWAD</td>\n      <td>PLUMBER</td>\n      <td>WATER MGMNT</td>\n      <td>F</td>\n      <td>Hourly</td>\n      <td>40.0</td>\n      <td>NaN</td>\n      <td>48.25</td>\n    </tr>\n    <tr>\n      <th>56</th>\n      <td>ACCARDI,  JOHNNA L</td>\n      <td>EQUIPMENT DISPATCHER</td>\n      <td>AVIATION</td>\n      <td>F</td>\n      <td>Hourly</td>\n      <td>40.0</td>\n      <td>NaN</td>\n      <td>36.22</td>\n    </tr>\n    <tr>\n      <th>57</th>\n      <td>ACCARDO,  ANTHONY D</td>\n      <td>CONSTRUCTION LABORER</td>\n      <td>AVIATION</td>\n      <td>F</td>\n      <td>Hourly</td>\n      <td>40.0</td>\n      <td>NaN</td>\n      <td>40.20</td>\n    </tr>\n    <tr>\n      <th>62</th>\n      <td>ACCIARI,  NICHOLAS B</td>\n      <td>MOTOR TRUCK DRIVER</td>\n      <td>STREETS &amp; SAN</td>\n      <td>F</td>\n      <td>Hourly</td>\n      <td>40.0</td>\n      <td>NaN</td>\n      <td>36.13</td>\n    </tr>\n    <tr>\n      <th>77</th>\n      <td>ACEVEDO,  JAVIER</td>\n      <td>ASPHALT LABORER</td>\n      <td>TRANSPORTN</td>\n      <td>F</td>\n      <td>Hourly</td>\n      <td>40.0</td>\n      <td>NaN</td>\n      <td>40.20</td>\n    </tr>\n    <tr>\n      <th>87</th>\n      <td>ACEVEDO,  STEVEN A</td>\n      <td>POOL MOTOR TRUCK DRIVER</td>\n      <td>AVIATION</td>\n      <td>F</td>\n      <td>Hourly</td>\n      <td>40.0</td>\n      <td>NaN</td>\n      <td>32.04</td>\n    </tr>\n    <tr>\n      <th>90</th>\n      <td>ACHA,  SHARAZAN MARLENE</td>\n      <td>POOL MOTOR TRUCK DRIVER</td>\n      <td>STREETS &amp; SAN</td>\n      <td>P</td>\n      <td>Hourly</td>\n      <td>10.0</td>\n      <td>NaN</td>\n      <td>28.48</td>\n    </tr>\n    <tr>\n      <th>95</th>\n      <td>ACKLIN,  QIANA D</td>\n      <td>CROSSING GUARD</td>\n      <td>OEMC</td>\n      <td>P</td>\n      <td>Hourly</td>\n      <td>20.0</td>\n      <td>NaN</td>\n      <td>17.68</td>\n    </tr>\n    <tr>\n      <th>96</th>\n      <td>ACOSTA,  CESAR I</td>\n      <td>STEAMFITTER</td>\n      <td>WATER MGMNT</td>\n      <td>F</td>\n      <td>Hourly</td>\n      <td>40.0</td>\n      <td>NaN</td>\n      <td>47.50</td>\n    </tr>\n    <tr>\n      <th>99</th>\n      <td>ACOSTA,  JORGE</td>\n      <td>ELECTRICAL MECHANIC (AUTOMOTIVE)</td>\n      <td>GENERAL SERVICES</td>\n      <td>F</td>\n      <td>Hourly</td>\n      <td>40.0</td>\n      <td>NaN</td>\n      <td>46.10</td>\n    </tr>\n    <tr>\n      <th>106</th>\n      <td>ACOSTA,  PABLO S</td>\n      <td>SANITATION LABORER</td>\n      <td>STREETS &amp; SAN</td>\n      <td>F</td>\n      <td>Hourly</td>\n      <td>40.0</td>\n      <td>NaN</td>\n      <td>36.21</td>\n    </tr>\n    <tr>\n      <th>108</th>\n      <td>ACRES,  ANTHONY E</td>\n      <td>LABORER</td>\n      <td>GENERAL SERVICES</td>\n      <td>F</td>\n      <td>Hourly</td>\n      <td>40.0</td>\n      <td>NaN</td>\n      <td>40.20</td>\n    </tr>\n    <tr>\n      <th>111</th>\n      <td>ADAIR,  STEVEN</td>\n      <td>SANITATION LABORER</td>\n      <td>STREETS &amp; SAN</td>\n      <td>F</td>\n      <td>Hourly</td>\n      <td>40.0</td>\n      <td>NaN</td>\n      <td>36.21</td>\n    </tr>\n    <tr>\n      <th>112</th>\n      <td>ADAMCZYK JR,  JAN</td>\n      <td>BOOTER - PARKING</td>\n      <td>FINANCE</td>\n      <td>F</td>\n      <td>Hourly</td>\n      <td>40.0</td>\n      <td>NaN</td>\n      <td>32.25</td>\n    </tr>\n    <tr>\n      <th>115</th>\n      <td>ADAME,  JORGE A</td>\n      <td>MACHINIST (AUTOMOTIVE)</td>\n      <td>GENERAL SERVICES</td>\n      <td>F</td>\n      <td>Hourly</td>\n      <td>40.0</td>\n      <td>NaN</td>\n      <td>46.35</td>\n    </tr>\n    <tr>\n      <th>...</th>\n      <td>...</td>\n      <td>...</td>\n      <td>...</td>\n      <td>...</td>\n      <td>...</td>\n      <td>...</td>\n      <td>...</td>\n      <td>...</td>\n    </tr>\n    <tr>\n      <th>33079</th>\n      <td>ZIELINSKI,  THEODORE J</td>\n      <td>PLUMBER</td>\n      <td>WATER MGMNT</td>\n      <td>F</td>\n      <td>Hourly</td>\n      <td>40.0</td>\n      <td>NaN</td>\n      <td>48.25</td>\n    </tr>\n    <tr>\n      <th>33080</th>\n      <td>ZIEMANN,  DAVID M</td>\n      <td>CONSTRUCTION LABORER</td>\n      <td>WATER MGMNT</td>\n      <td>F</td>\n      <td>Hourly</td>\n      <td>40.0</td>\n      <td>NaN</td>\n      <td>40.20</td>\n    </tr>\n    <tr>\n      <th>33081</th>\n      <td>ZIEMANN,  DONALD W</td>\n      <td>MOTOR TRUCK DRIVER</td>\n      <td>WATER MGMNT</td>\n      <td>F</td>\n      <td>Hourly</td>\n      <td>40.0</td>\n      <td>NaN</td>\n      <td>35.60</td>\n    </tr>\n    <tr>\n      <th>33087</th>\n      <td>ZIENTARSKI,  DAVID A</td>\n      <td>OPERATING ENGINEER-GROUP A</td>\n      <td>GENERAL SERVICES</td>\n      <td>F</td>\n      <td>Hourly</td>\n      <td>40.0</td>\n      <td>NaN</td>\n      <td>47.44</td>\n    </tr>\n    <tr>\n      <th>33090</th>\n      <td>ZIMMERMAN,  EDWARD A</td>\n      <td>POOL MOTOR TRUCK DRIVER</td>\n      <td>AVIATION</td>\n      <td>F</td>\n      <td>Hourly</td>\n      <td>40.0</td>\n      <td>NaN</td>\n      <td>35.60</td>\n    </tr>\n    <tr>\n      <th>33094</th>\n      <td>ZINCHUK,  BRIAN C</td>\n      <td>OPERATING ENGINEER-GROUP A</td>\n      <td>WATER MGMNT</td>\n      <td>F</td>\n      <td>Hourly</td>\n      <td>40.0</td>\n      <td>NaN</td>\n      <td>47.44</td>\n    </tr>\n    <tr>\n      <th>33103</th>\n      <td>ZIVAT,  MICHAEL</td>\n      <td>CONSTRUCTION LABORER</td>\n      <td>WATER MGMNT</td>\n      <td>F</td>\n      <td>Hourly</td>\n      <td>40.0</td>\n      <td>NaN</td>\n      <td>40.20</td>\n    </tr>\n    <tr>\n      <th>33104</th>\n      <td>ZIZUMBO,  DANIEL</td>\n      <td>POOL MOTOR TRUCK DRIVER</td>\n      <td>WATER MGMNT</td>\n      <td>F</td>\n      <td>Hourly</td>\n      <td>40.0</td>\n      <td>NaN</td>\n      <td>35.60</td>\n    </tr>\n    <tr>\n      <th>33105</th>\n      <td>ZIZUMBO,  DAVID</td>\n      <td>MOTOR TRUCK DRIVER</td>\n      <td>STREETS &amp; SAN</td>\n      <td>F</td>\n      <td>Hourly</td>\n      <td>40.0</td>\n      <td>NaN</td>\n      <td>35.60</td>\n    </tr>\n    <tr>\n      <th>33106</th>\n      <td>ZIZUMBO,  JOSE N</td>\n      <td>MOTOR TRUCK DRIVER</td>\n      <td>STREETS &amp; SAN</td>\n      <td>F</td>\n      <td>Hourly</td>\n      <td>40.0</td>\n      <td>NaN</td>\n      <td>36.13</td>\n    </tr>\n    <tr>\n      <th>33107</th>\n      <td>ZIZUMBO,  LUIS</td>\n      <td>MOTOR TRUCK DRIVER</td>\n      <td>STREETS &amp; SAN</td>\n      <td>F</td>\n      <td>Hourly</td>\n      <td>40.0</td>\n      <td>NaN</td>\n      <td>35.60</td>\n    </tr>\n    <tr>\n      <th>33108</th>\n      <td>ZIZZO,  RUSS D</td>\n      <td>MOTOR TRUCK DRIVER</td>\n      <td>AVIATION</td>\n      <td>F</td>\n      <td>Hourly</td>\n      <td>40.0</td>\n      <td>NaN</td>\n      <td>35.60</td>\n    </tr>\n    <tr>\n      <th>33112</th>\n      <td>ZOCHOWSKI,  DAVID J</td>\n      <td>OPERATING ENGINEER-GROUP C</td>\n      <td>AVIATION</td>\n      <td>F</td>\n      <td>Hourly</td>\n      <td>40.0</td>\n      <td>NaN</td>\n      <td>45.07</td>\n    </tr>\n    <tr>\n      <th>33120</th>\n      <td>ZOLTEK,  JOHN J</td>\n      <td>ELECTRICAL MECHANIC (AUTOMOTIVE)</td>\n      <td>GENERAL SERVICES</td>\n      <td>F</td>\n      <td>Hourly</td>\n      <td>40.0</td>\n      <td>NaN</td>\n      <td>46.10</td>\n    </tr>\n    <tr>\n      <th>33128</th>\n      <td>ZOVKO,  RICHARD A</td>\n      <td>HOISTING ENGINEER - MECHANIC</td>\n      <td>GENERAL SERVICES</td>\n      <td>F</td>\n      <td>Hourly</td>\n      <td>40.0</td>\n      <td>NaN</td>\n      <td>52.10</td>\n    </tr>\n    <tr>\n      <th>33132</th>\n      <td>ZUBECK,  JOHN</td>\n      <td>PLUMBER</td>\n      <td>WATER MGMNT</td>\n      <td>F</td>\n      <td>Hourly</td>\n      <td>40.0</td>\n      <td>NaN</td>\n      <td>48.25</td>\n    </tr>\n    <tr>\n      <th>33135</th>\n      <td>ZUCCARELLI,  ROBERT A</td>\n      <td>BRIDGE AND STRUCTURAL IRON WORKER</td>\n      <td>TRANSPORTN</td>\n      <td>F</td>\n      <td>Hourly</td>\n      <td>40.0</td>\n      <td>NaN</td>\n      <td>46.20</td>\n    </tr>\n    <tr>\n      <th>33136</th>\n      <td>ZUCKER,  MICHAEL J</td>\n      <td>MACHINIST (AUTOMOTIVE)</td>\n      <td>GENERAL SERVICES</td>\n      <td>F</td>\n      <td>Hourly</td>\n      <td>40.0</td>\n      <td>NaN</td>\n      <td>46.35</td>\n    </tr>\n    <tr>\n      <th>33145</th>\n      <td>ZUMARAS,  ROLAND A</td>\n      <td>AIRPORT MAINTENANCE FOREMAN</td>\n      <td>AVIATION</td>\n      <td>F</td>\n      <td>Hourly</td>\n      <td>40.0</td>\n      <td>NaN</td>\n      <td>35.57</td>\n    </tr>\n    <tr>\n      <th>33147</th>\n      <td>ZUMMO,  ROBERT J</td>\n      <td>MOTOR TRUCK DRIVER</td>\n      <td>STREETS &amp; SAN</td>\n      <td>F</td>\n      <td>Hourly</td>\n      <td>40.0</td>\n      <td>NaN</td>\n      <td>35.60</td>\n    </tr>\n    <tr>\n      <th>33149</th>\n      <td>ZUNICH,  JONATHAN G</td>\n      <td>SANITATION LABORER</td>\n      <td>STREETS &amp; SAN</td>\n      <td>F</td>\n      <td>Hourly</td>\n      <td>40.0</td>\n      <td>NaN</td>\n      <td>36.21</td>\n    </tr>\n    <tr>\n      <th>33150</th>\n      <td>ZUNIGA JR,  JAMES</td>\n      <td>GARAGE ATTENDANT</td>\n      <td>GENERAL SERVICES</td>\n      <td>F</td>\n      <td>Hourly</td>\n      <td>40.0</td>\n      <td>NaN</td>\n      <td>23.31</td>\n    </tr>\n    <tr>\n      <th>33156</th>\n      <td>ZUNIGA,  THOMAS</td>\n      <td>GENERAL LABORER - DSS</td>\n      <td>STREETS &amp; SAN</td>\n      <td>F</td>\n      <td>Hourly</td>\n      <td>40.0</td>\n      <td>NaN</td>\n      <td>22.12</td>\n    </tr>\n    <tr>\n      <th>33158</th>\n      <td>ZUNO,  ERIK</td>\n      <td>CONSTRUCTION LABORER</td>\n      <td>WATER MGMNT</td>\n      <td>F</td>\n      <td>Hourly</td>\n      <td>40.0</td>\n      <td>NaN</td>\n      <td>40.20</td>\n    </tr>\n    <tr>\n      <th>33161</th>\n      <td>ZURAWSKI,  JEFFREY</td>\n      <td>FRM OF MACHINISTS - AUTOMOTIVE</td>\n      <td>GENERAL SERVICES</td>\n      <td>F</td>\n      <td>Hourly</td>\n      <td>40.0</td>\n      <td>NaN</td>\n      <td>48.85</td>\n    </tr>\n    <tr>\n      <th>33164</th>\n      <td>ZUREK,  FRANCIS</td>\n      <td>ELECTRICAL MECHANIC</td>\n      <td>OEMC</td>\n      <td>F</td>\n      <td>Hourly</td>\n      <td>40.0</td>\n      <td>NaN</td>\n      <td>46.10</td>\n    </tr>\n    <tr>\n      <th>33168</th>\n      <td>ZWARYCZ MANN,  IRENE A</td>\n      <td>CROSSING GUARD</td>\n      <td>OEMC</td>\n      <td>P</td>\n      <td>Hourly</td>\n      <td>20.0</td>\n      <td>NaN</td>\n      <td>17.68</td>\n    </tr>\n    <tr>\n      <th>33169</th>\n      <td>ZWARYCZ,  THOMAS J</td>\n      <td>POOL MOTOR TRUCK DRIVER</td>\n      <td>WATER MGMNT</td>\n      <td>F</td>\n      <td>Hourly</td>\n      <td>40.0</td>\n      <td>NaN</td>\n      <td>35.60</td>\n    </tr>\n    <tr>\n      <th>33174</th>\n      <td>ZYGADLO,  JOHN P</td>\n      <td>MACHINIST (AUTOMOTIVE)</td>\n      <td>GENERAL SERVICES</td>\n      <td>F</td>\n      <td>Hourly</td>\n      <td>40.0</td>\n      <td>NaN</td>\n      <td>46.35</td>\n    </tr>\n    <tr>\n      <th>33175</th>\n      <td>ZYGADLO,  MICHAEL J</td>\n      <td>FRM OF MACHINISTS - AUTOMOTIVE</td>\n      <td>GENERAL SERVICES</td>\n      <td>F</td>\n      <td>Hourly</td>\n      <td>40.0</td>\n      <td>NaN</td>\n      <td>48.85</td>\n    </tr>\n  </tbody>\n</table>\n<p>8022 rows × 8 columns</p>\n</div>",
      "text/plain": "                           Name                         Job Titles  \\\n4             ABASCAL,  REECE E        TRAFFIC CONTROL AIDE-HOURLY   \n6         ABBATACOLA,  ROBERT J                ELECTRICAL MECHANIC   \n7            ABBATE,  JOSEPH L             POOL MOTOR TRUCK DRIVER   \n10             ABBOTT,  BETTY L                 FOSTER GRANDPARENT   \n18         ABDULLAH,  LAKENYA N                     CROSSING GUARD   \n19           ABDULLAH,  RASHAD    ELECTRICAL MECHANIC (AUTOMOTIVE)   \n21        ABDUL-SHAKUR,  TAHIR               GENERAL LABORER - DSS   \n24       ABERCROMBIE,  TIMOTHY                  MOTOR TRUCK DRIVER   \n26           ABIOYE,  ADEWOLE A         LIBRARY ASSOCIATE - HOURLY   \n33       ABRAHAMSON,  MICHAEL C   STUDENT INTERN - MAYOR'S FELLOWS   \n36          ABRAMS,  DANIELLE T                 SANITATION LABORER   \n39            ABRAMS,  SAMUEL A            POOL MOTOR TRUCK DRIVER   \n40            ABRAMS,  TIFFANY          OPERATING ENGINEER-GROUP C   \n42               ABREU,  DILAN                    SEWER BRICKLAYER   \n48           ABRONS,  KENNETH L                ELECTRICAL MECHANIC   \n52          ABUHASHISH,  AWWAD                             PLUMBER   \n56           ACCARDI,  JOHNNA L               EQUIPMENT DISPATCHER   \n57          ACCARDO,  ANTHONY D               CONSTRUCTION LABORER   \n62         ACCIARI,  NICHOLAS B                 MOTOR TRUCK DRIVER   \n77            ACEVEDO,  JAVIER                     ASPHALT LABORER   \n87           ACEVEDO,  STEVEN A            POOL MOTOR TRUCK DRIVER   \n90     ACHA,  SHARAZAN MARLENE             POOL MOTOR TRUCK DRIVER   \n95             ACKLIN,  QIANA D                     CROSSING GUARD   \n96             ACOSTA,  CESAR I                        STEAMFITTER   \n99              ACOSTA,  JORGE    ELECTRICAL MECHANIC (AUTOMOTIVE)   \n106            ACOSTA,  PABLO S                 SANITATION LABORER   \n108           ACRES,  ANTHONY E                            LABORER   \n111             ADAIR,  STEVEN                  SANITATION LABORER   \n112          ADAMCZYK JR,  JAN                    BOOTER - PARKING   \n115             ADAME,  JORGE A             MACHINIST (AUTOMOTIVE)   \n...                         ...                                ...   \n33079    ZIELINSKI,  THEODORE J                            PLUMBER   \n33080         ZIEMANN,  DAVID M               CONSTRUCTION LABORER   \n33081        ZIEMANN,  DONALD W                 MOTOR TRUCK DRIVER   \n33087      ZIENTARSKI,  DAVID A         OPERATING ENGINEER-GROUP A   \n33090      ZIMMERMAN,  EDWARD A            POOL MOTOR TRUCK DRIVER   \n33094         ZINCHUK,  BRIAN C         OPERATING ENGINEER-GROUP A   \n33103          ZIVAT,  MICHAEL                CONSTRUCTION LABORER   \n33104         ZIZUMBO,  DANIEL             POOL MOTOR TRUCK DRIVER   \n33105          ZIZUMBO,  DAVID                  MOTOR TRUCK DRIVER   \n33106          ZIZUMBO,  JOSE N                 MOTOR TRUCK DRIVER   \n33107           ZIZUMBO,  LUIS                  MOTOR TRUCK DRIVER   \n33108            ZIZZO,  RUSS D                 MOTOR TRUCK DRIVER   \n33112       ZOCHOWSKI,  DAVID J         OPERATING ENGINEER-GROUP C   \n33120           ZOLTEK,  JOHN J   ELECTRICAL MECHANIC (AUTOMOTIVE)   \n33128         ZOVKO,  RICHARD A       HOISTING ENGINEER - MECHANIC   \n33132            ZUBECK,  JOHN                             PLUMBER   \n33135     ZUCCARELLI,  ROBERT A  BRIDGE AND STRUCTURAL IRON WORKER   \n33136        ZUCKER,  MICHAEL J             MACHINIST (AUTOMOTIVE)   \n33145        ZUMARAS,  ROLAND A        AIRPORT MAINTENANCE FOREMAN   \n33147          ZUMMO,  ROBERT J                 MOTOR TRUCK DRIVER   \n33149       ZUNICH,  JONATHAN G                 SANITATION LABORER   \n33150        ZUNIGA JR,  JAMES                    GARAGE ATTENDANT   \n33156          ZUNIGA,  THOMAS               GENERAL LABORER - DSS   \n33158              ZUNO,  ERIK                CONSTRUCTION LABORER   \n33161       ZURAWSKI,  JEFFREY      FRM OF MACHINISTS - AUTOMOTIVE   \n33164          ZUREK,  FRANCIS                 ELECTRICAL MECHANIC   \n33168    ZWARYCZ MANN,  IRENE A                     CROSSING GUARD   \n33169        ZWARYCZ,  THOMAS J            POOL MOTOR TRUCK DRIVER   \n33174          ZYGADLO,  JOHN P             MACHINIST (AUTOMOTIVE)   \n33175       ZYGADLO,  MICHAEL J     FRM OF MACHINISTS - AUTOMOTIVE   \n\n             Department Full or Part-Time Salary or Hourly  Typical Hours  \\\n4                  OEMC                 P           Hourly           20.0   \n6              AVIATION                 F           Hourly           40.0   \n7         STREETS & SAN                 F           Hourly           40.0   \n10     FAMILY & SUPPORT                 P           Hourly           20.0   \n18                 OEMC                 P           Hourly           20.0   \n19     GENERAL SERVICES                 F           Hourly           40.0   \n21        STREETS & SAN                 F           Hourly           40.0   \n24        STREETS & SAN                 F           Hourly           40.0   \n26       PUBLIC LIBRARY                 P           Hourly           20.0   \n33       MAYOR'S OFFICE                 F           Hourly           35.0   \n36        STREETS & SAN                 F           Hourly           40.0   \n39        STREETS & SAN                 F           Hourly           40.0   \n40          WATER MGMNT                 F           Hourly           40.0   \n42          WATER MGMNT                 F           Hourly           40.0   \n48             AVIATION                 F           Hourly           40.0   \n52          WATER MGMNT                 F           Hourly           40.0   \n56             AVIATION                 F           Hourly           40.0   \n57             AVIATION                 F           Hourly           40.0   \n62        STREETS & SAN                 F           Hourly           40.0   \n77           TRANSPORTN                 F           Hourly           40.0   \n87             AVIATION                 F           Hourly           40.0   \n90        STREETS & SAN                 P           Hourly           10.0   \n95                 OEMC                 P           Hourly           20.0   \n96          WATER MGMNT                 F           Hourly           40.0   \n99     GENERAL SERVICES                 F           Hourly           40.0   \n106       STREETS & SAN                 F           Hourly           40.0   \n108    GENERAL SERVICES                 F           Hourly           40.0   \n111       STREETS & SAN                 F           Hourly           40.0   \n112             FINANCE                 F           Hourly           40.0   \n115    GENERAL SERVICES                 F           Hourly           40.0   \n...                 ...               ...              ...            ...   \n33079       WATER MGMNT                 F           Hourly           40.0   \n33080       WATER MGMNT                 F           Hourly           40.0   \n33081       WATER MGMNT                 F           Hourly           40.0   \n33087  GENERAL SERVICES                 F           Hourly           40.0   \n33090          AVIATION                 F           Hourly           40.0   \n33094       WATER MGMNT                 F           Hourly           40.0   \n33103       WATER MGMNT                 F           Hourly           40.0   \n33104       WATER MGMNT                 F           Hourly           40.0   \n33105     STREETS & SAN                 F           Hourly           40.0   \n33106     STREETS & SAN                 F           Hourly           40.0   \n33107     STREETS & SAN                 F           Hourly           40.0   \n33108          AVIATION                 F           Hourly           40.0   \n33112          AVIATION                 F           Hourly           40.0   \n33120  GENERAL SERVICES                 F           Hourly           40.0   \n33128  GENERAL SERVICES                 F           Hourly           40.0   \n33132       WATER MGMNT                 F           Hourly           40.0   \n33135        TRANSPORTN                 F           Hourly           40.0   \n33136  GENERAL SERVICES                 F           Hourly           40.0   \n33145          AVIATION                 F           Hourly           40.0   \n33147     STREETS & SAN                 F           Hourly           40.0   \n33149     STREETS & SAN                 F           Hourly           40.0   \n33150  GENERAL SERVICES                 F           Hourly           40.0   \n33156     STREETS & SAN                 F           Hourly           40.0   \n33158       WATER MGMNT                 F           Hourly           40.0   \n33161  GENERAL SERVICES                 F           Hourly           40.0   \n33164              OEMC                 F           Hourly           40.0   \n33168              OEMC                 P           Hourly           20.0   \n33169       WATER MGMNT                 F           Hourly           40.0   \n33174  GENERAL SERVICES                 F           Hourly           40.0   \n33175  GENERAL SERVICES                 F           Hourly           40.0   \n\n       Annual Salary  Hourly Rate  \n4                NaN        19.86  \n6                NaN        46.10  \n7                NaN        35.60  \n10               NaN         2.65  \n18               NaN        17.68  \n19               NaN        46.10  \n21               NaN        21.43  \n24               NaN        35.60  \n26               NaN        25.10  \n33               NaN        20.00  \n36               NaN        36.21  \n39               NaN        35.60  \n40               NaN        45.07  \n42               NaN        44.88  \n48               NaN        46.10  \n52               NaN        48.25  \n56               NaN        36.22  \n57               NaN        40.20  \n62               NaN        36.13  \n77               NaN        40.20  \n87               NaN        32.04  \n90               NaN        28.48  \n95               NaN        17.68  \n96               NaN        47.50  \n99               NaN        46.10  \n106              NaN        36.21  \n108              NaN        40.20  \n111              NaN        36.21  \n112              NaN        32.25  \n115              NaN        46.35  \n...              ...          ...  \n33079            NaN        48.25  \n33080            NaN        40.20  \n33081            NaN        35.60  \n33087            NaN        47.44  \n33090            NaN        35.60  \n33094            NaN        47.44  \n33103            NaN        40.20  \n33104            NaN        35.60  \n33105            NaN        35.60  \n33106            NaN        36.13  \n33107            NaN        35.60  \n33108            NaN        35.60  \n33112            NaN        45.07  \n33120            NaN        46.10  \n33128            NaN        52.10  \n33132            NaN        48.25  \n33135            NaN        46.20  \n33136            NaN        46.35  \n33145            NaN        35.57  \n33147            NaN        35.60  \n33149            NaN        36.21  \n33150            NaN        23.31  \n33156            NaN        22.12  \n33158            NaN        40.20  \n33161            NaN        48.85  \n33164            NaN        46.10  \n33168            NaN        17.68  \n33169            NaN        35.60  \n33174            NaN        46.35  \n33175            NaN        48.85  \n\n[8022 rows x 8 columns]"
     },
     "execution_count": 27,
     "metadata": {},
     "output_type": "execute_result"
    }
   ],
   "source": [
    "# Your code here:\n",
    "\n",
    "df_h=df[df['Salary or Hourly']=='Hourly']\n",
    "df_h"
   ]
  },
  {
   "cell_type": "code",
   "execution_count": 44,
   "metadata": {},
   "outputs": [
    {
     "data": {
      "text/plain": "4        19.86\n6        46.10\n7        35.60\n10        2.65\n18       17.68\n19       46.10\n21       21.43\n24       35.60\n26       25.10\n33       20.00\n36       36.21\n39       35.60\n40       45.07\n42       44.88\n48       46.10\n52       48.25\n56       36.22\n57       40.20\n62       36.13\n77       40.20\n87       32.04\n90       28.48\n95       17.68\n96       47.50\n99       46.10\n106      36.21\n108      40.20\n111      36.21\n112      32.25\n115      46.35\n         ...  \n33079    48.25\n33080    40.20\n33081    35.60\n33087    47.44\n33090    35.60\n33094    47.44\n33103    40.20\n33104    35.60\n33105    35.60\n33106    36.13\n33107    35.60\n33108    35.60\n33112    45.07\n33120    46.10\n33128    52.10\n33132    48.25\n33135    46.20\n33136    46.35\n33145    35.57\n33147    35.60\n33149    36.21\n33150    23.31\n33156    22.12\n33158    40.20\n33161    48.85\n33164    46.10\n33168    17.68\n33169    35.60\n33174    46.35\n33175    48.85\nName: Hourly Rate, Length: 8022, dtype: float64"
     },
     "execution_count": 44,
     "metadata": {},
     "output_type": "execute_result"
    }
   ],
   "source": [
    "h_mean=df_h['Hourly Rate']\n",
    "h_mean"
   ]
  },
  {
   "cell_type": "code",
   "execution_count": 46,
   "metadata": {},
   "outputs": [
    {
     "name": "stdout",
     "output_type": "stream",
     "text": "4.3230240486229894e-92\n we are rejecting null hypothesis\n"
    }
   ],
   "source": [
    "tset,pval=ttest_1samp(h_mean,30)\n",
    "print(pval)\n",
    "if pval < 0.05:    # alpha value is 0.05 or 5%\n",
    "   print(\" we are rejecting null hypothesis\")\n",
    "else:\n",
    "  print(\"we are accepting null hypothesis\")\n"
   ]
  },
  {
   "cell_type": "markdown",
   "metadata": {},
   "source": [
    "We are also curious about salaries in the police force. The chief of police in Chicago claimed in a press briefing that salaries this year are higher than last year's mean of $86000/year a year for all salaried employees. Test this one sided hypothesis using a 95% confidence interval.\n",
    "\n",
    "Hint: A one tailed test has a p-value that is half of the two tailed p-value. If our hypothesis is greater than, then to reject, the test statistic must also be positive."
   ]
  },
  {
   "cell_type": "code",
   "execution_count": 51,
   "metadata": {},
   "outputs": [
    {
     "data": {
      "text/html": "<div>\n<style scoped>\n    .dataframe tbody tr th:only-of-type {\n        vertical-align: middle;\n    }\n\n    .dataframe tbody tr th {\n        vertical-align: top;\n    }\n\n    .dataframe thead th {\n        text-align: right;\n    }\n</style>\n<table border=\"1\" class=\"dataframe\">\n  <thead>\n    <tr style=\"text-align: right;\">\n      <th></th>\n      <th>Name</th>\n      <th>Job Titles</th>\n      <th>Department</th>\n      <th>Full or Part-Time</th>\n      <th>Salary or Hourly</th>\n      <th>Typical Hours</th>\n      <th>Annual Salary</th>\n      <th>Hourly Rate</th>\n    </tr>\n  </thead>\n  <tbody>\n    <tr>\n      <th>0</th>\n      <td>AARON,  JEFFERY M</td>\n      <td>SERGEANT</td>\n      <td>POLICE</td>\n      <td>F</td>\n      <td>Salary</td>\n      <td>NaN</td>\n      <td>101442.0</td>\n      <td>NaN</td>\n    </tr>\n    <tr>\n      <th>1</th>\n      <td>AARON,  KARINA</td>\n      <td>POLICE OFFICER (ASSIGNED AS DETECTIVE)</td>\n      <td>POLICE</td>\n      <td>F</td>\n      <td>Salary</td>\n      <td>NaN</td>\n      <td>94122.0</td>\n      <td>NaN</td>\n    </tr>\n    <tr>\n      <th>2</th>\n      <td>AARON,  KIMBERLEI R</td>\n      <td>CHIEF CONTRACT EXPEDITER</td>\n      <td>GENERAL SERVICES</td>\n      <td>F</td>\n      <td>Salary</td>\n      <td>NaN</td>\n      <td>101592.0</td>\n      <td>NaN</td>\n    </tr>\n    <tr>\n      <th>3</th>\n      <td>ABAD JR,  VICENTE M</td>\n      <td>CIVIL ENGINEER IV</td>\n      <td>WATER MGMNT</td>\n      <td>F</td>\n      <td>Salary</td>\n      <td>NaN</td>\n      <td>110064.0</td>\n      <td>NaN</td>\n    </tr>\n    <tr>\n      <th>5</th>\n      <td>ABBASI,  CHRISTOPHER</td>\n      <td>STAFF ASST TO THE ALDERMAN</td>\n      <td>CITY COUNCIL</td>\n      <td>F</td>\n      <td>Salary</td>\n      <td>NaN</td>\n      <td>50436.0</td>\n      <td>NaN</td>\n    </tr>\n  </tbody>\n</table>\n</div>",
      "text/plain": "                    Name                              Job Titles  \\\n0      AARON,  JEFFERY M                                SERGEANT   \n1        AARON,  KARINA   POLICE OFFICER (ASSIGNED AS DETECTIVE)   \n2    AARON,  KIMBERLEI R                CHIEF CONTRACT EXPEDITER   \n3    ABAD JR,  VICENTE M                       CIVIL ENGINEER IV   \n5  ABBASI,  CHRISTOPHER               STAFF ASST TO THE ALDERMAN   \n\n         Department Full or Part-Time Salary or Hourly  Typical Hours  \\\n0            POLICE                 F           Salary            NaN   \n1            POLICE                 F           Salary            NaN   \n2  GENERAL SERVICES                 F           Salary            NaN   \n3       WATER MGMNT                 F           Salary            NaN   \n5      CITY COUNCIL                 F           Salary            NaN   \n\n   Annual Salary  Hourly Rate  \n0       101442.0          NaN  \n1        94122.0          NaN  \n2       101592.0          NaN  \n3       110064.0          NaN  \n5        50436.0          NaN  "
     },
     "execution_count": 51,
     "metadata": {},
     "output_type": "execute_result"
    }
   ],
   "source": [
    "df_s.head()"
   ]
  },
  {
   "cell_type": "code",
   "execution_count": 55,
   "metadata": {},
   "outputs": [
    {
     "data": {
      "text/plain": "0        101442.0\n1         94122.0\n2        101592.0\n3        110064.0\n5         50436.0\n8        103350.0\n9         93354.0\n11        84054.0\n12        87006.0\n13       102228.0\n14        84054.0\n15        91272.0\n16       111492.0\n17        95484.0\n20        65448.0\n22        90024.0\n23        82614.0\n25        48078.0\n27        76266.0\n28        48078.0\n29       110064.0\n30       110064.0\n31        55644.0\n32        80016.0\n34        72510.0\n35        65820.0\n37       128970.0\n38        68616.0\n41        89148.0\n43       101712.0\n           ...   \n33141     80016.0\n33142     91080.0\n33143     97386.0\n33144     56304.0\n33146     87006.0\n33148     83136.0\n33151     90024.0\n33152     84054.0\n33153     72510.0\n33154     84054.0\n33155     90024.0\n33157     92274.0\n33159    114324.0\n33160     76266.0\n33162     76896.0\n33163     96060.0\n33165     89076.0\n33166     76266.0\n33167     76932.0\n33170     90024.0\n33171    114324.0\n33172     72510.0\n33173     87006.0\n33176     48078.0\n33177     72510.0\n33178     72510.0\n33179     48078.0\n33180     90024.0\n33181     93354.0\n33182    115932.0\nName: Annual Salary, Length: 25161, dtype: float64"
     },
     "execution_count": 55,
     "metadata": {},
     "output_type": "execute_result"
    }
   ],
   "source": [
    "# Your code here:\n",
    "df_s=df[df['Salary or Hourly']=='Salary']\n",
    "s_mean=df_s['Annual Salary']\n",
    "s_mean\n"
   ]
  },
  {
   "cell_type": "code",
   "execution_count": 57,
   "metadata": {},
   "outputs": [
    {
     "name": "stdout",
     "output_type": "stream",
     "text": "3.015758519916386e-09\n we are rejecting null hypothesis\n"
    }
   ],
   "source": [
    "tset,pval=ttest_1samp(s_mean,86000)\n",
    "print(pval)\n",
    "if pval < 0.05:    # alpha value is 0.05 or 5%\n",
    "   print(\" we are rejecting null hypothesis\")\n",
    "else:\n",
    "  print(\"we are accepting null hypothesis\")"
   ]
  },
  {
   "cell_type": "markdown",
   "metadata": {},
   "source": [
    "Using the `crosstab` function, find the department that has the most hourly workers. "
   ]
  },
  {
   "cell_type": "code",
   "execution_count": 58,
   "metadata": {},
   "outputs": [
    {
     "data": {
      "text/html": "<div>\n<style scoped>\n    .dataframe tbody tr th:only-of-type {\n        vertical-align: middle;\n    }\n\n    .dataframe tbody tr th {\n        vertical-align: top;\n    }\n\n    .dataframe thead th {\n        text-align: right;\n    }\n</style>\n<table border=\"1\" class=\"dataframe\">\n  <thead>\n    <tr style=\"text-align: right;\">\n      <th>Department</th>\n      <th>ADMIN HEARNG</th>\n      <th>ANIMAL CONTRL</th>\n      <th>AVIATION</th>\n      <th>BOARD OF ELECTION</th>\n      <th>BOARD OF ETHICS</th>\n      <th>BUDGET &amp; MGMT</th>\n      <th>BUILDINGS</th>\n      <th>BUSINESS AFFAIRS</th>\n      <th>CITY CLERK</th>\n      <th>CITY COUNCIL</th>\n      <th>...</th>\n      <th>MAYOR'S OFFICE</th>\n      <th>OEMC</th>\n      <th>POLICE</th>\n      <th>POLICE BOARD</th>\n      <th>PROCUREMENT</th>\n      <th>PUBLIC LIBRARY</th>\n      <th>STREETS &amp; SAN</th>\n      <th>TRANSPORTN</th>\n      <th>TREASURER</th>\n      <th>WATER MGMNT</th>\n    </tr>\n    <tr>\n      <th>Salary or Hourly</th>\n      <th></th>\n      <th></th>\n      <th></th>\n      <th></th>\n      <th></th>\n      <th></th>\n      <th></th>\n      <th></th>\n      <th></th>\n      <th></th>\n      <th></th>\n      <th></th>\n      <th></th>\n      <th></th>\n      <th></th>\n      <th></th>\n      <th></th>\n      <th></th>\n      <th></th>\n      <th></th>\n      <th></th>\n    </tr>\n  </thead>\n  <tbody>\n    <tr>\n      <th>Hourly</th>\n      <td>0</td>\n      <td>19</td>\n      <td>1082</td>\n      <td>0</td>\n      <td>0</td>\n      <td>2</td>\n      <td>0</td>\n      <td>7</td>\n      <td>0</td>\n      <td>64</td>\n      <td>...</td>\n      <td>8</td>\n      <td>1273</td>\n      <td>10</td>\n      <td>0</td>\n      <td>2</td>\n      <td>299</td>\n      <td>1862</td>\n      <td>725</td>\n      <td>0</td>\n      <td>1513</td>\n    </tr>\n    <tr>\n      <th>Salary</th>\n      <td>39</td>\n      <td>62</td>\n      <td>547</td>\n      <td>107</td>\n      <td>8</td>\n      <td>44</td>\n      <td>269</td>\n      <td>164</td>\n      <td>84</td>\n      <td>347</td>\n      <td>...</td>\n      <td>77</td>\n      <td>829</td>\n      <td>13404</td>\n      <td>2</td>\n      <td>90</td>\n      <td>716</td>\n      <td>336</td>\n      <td>415</td>\n      <td>22</td>\n      <td>366</td>\n    </tr>\n  </tbody>\n</table>\n<p>2 rows × 35 columns</p>\n</div>",
      "text/plain": "Department        ADMIN HEARNG  ANIMAL CONTRL  AVIATION  BOARD OF ELECTION  \\\nSalary or Hourly                                                             \nHourly                       0             19      1082                  0   \nSalary                      39             62       547                107   \n\nDepartment        BOARD OF ETHICS  BUDGET & MGMT  BUILDINGS  BUSINESS AFFAIRS  \\\nSalary or Hourly                                                                \nHourly                          0              2          0                 7   \nSalary                          8             44        269               164   \n\nDepartment        CITY CLERK  CITY COUNCIL  ...  MAYOR'S OFFICE  OEMC  POLICE  \\\nSalary or Hourly                            ...                                 \nHourly                     0            64  ...               8  1273      10   \nSalary                    84           347  ...              77   829   13404   \n\nDepartment        POLICE BOARD  PROCUREMENT  PUBLIC LIBRARY  STREETS & SAN  \\\nSalary or Hourly                                                             \nHourly                       0            2             299           1862   \nSalary                       2           90             716            336   \n\nDepartment        TRANSPORTN  TREASURER  WATER MGMNT  \nSalary or Hourly                                      \nHourly                   725          0         1513  \nSalary                   415         22          366  \n\n[2 rows x 35 columns]"
     },
     "execution_count": 58,
     "metadata": {},
     "output_type": "execute_result"
    }
   ],
   "source": [
    "# Your code here:\n",
    "pd.crosstab(df['Salary or Hourly'],df['Department'])\n"
   ]
  },
  {
   "cell_type": "markdown",
   "metadata": {},
   "source": [
    "The workers from the department with the most hourly workers have complained that their hourly wage is less than $35/hour. Using a one sample t-test, test this one-sided hypothesis at the 95% confidence level."
   ]
  },
  {
   "cell_type": "code",
   "execution_count": 67,
   "metadata": {},
   "outputs": [],
   "source": [
    "# Your code here:\n",
    "df_sd=df[df['Department']=='STREETS & SAN']\n",
    "df_sd_hourly=df_sd[df_sd['Salary or Hourly']=='Hourly']\n",
    "df_sd_hourly_rate=df_sd_hourly['Hourly Rate']\n",
    "#asdf=df[df['Salary or Hourly']=='Salary']\n",
    "\n"
   ]
  },
  {
   "cell_type": "code",
   "execution_count": 68,
   "metadata": {},
   "outputs": [
    {
     "name": "stdout",
     "output_type": "stream",
     "text": "3.3378530564707717e-21\n we are rejecting null hypothesis\n"
    }
   ],
   "source": [
    "tset,pval=ttest_1samp(df_sd_hourly_rate,35)\n",
    "print(pval)\n",
    "if pval < 0.05:    # alpha value is 0.05 or 5%\n",
    "   print(\" we are rejecting null hypothesis\")\n",
    "else:\n",
    "  print(\"we are accepting null hypothesis\")"
   ]
  },
  {
   "cell_type": "markdown",
   "metadata": {},
   "source": [
    "# Challenge 3: To practice - Constructing Confidence Intervals\n",
    "\n",
    "While testing our hypothesis is a great way to gather empirical evidence for accepting or rejecting the hypothesis, another way to gather evidence is by creating a confidence interval. A confidence interval gives us information about the true mean of the population. So for a 95% confidence interval, we are 95% sure that the mean of the population is within the confidence interval. \n",
    ").\n",
    "\n",
    "To read more about confidence intervals, click [here](https://en.wikipedia.org/wiki/Confidence_interval).\n",
    "\n",
    "\n",
    "In the cell below, we will construct a 95% confidence interval for the mean hourly wage of all hourly workers. \n",
    "\n",
    "The confidence interval is computed in SciPy using the `t.interval` function. You can read more about this function [here](https://docs.scipy.org/doc/scipy-0.14.0/reference/generated/scipy.stats.t.html).\n",
    "\n",
    "To compute the confidence interval of the hourly wage, use the 0.95 for the confidence level, number of rows - 1 for degrees of freedom, the mean of the sample for the location parameter and the standard error for the scale. The standard error can be computed using [this](https://docs.scipy.org/doc/scipy/reference/generated/scipy.stats.sem.html) function in SciPy."
   ]
  },
  {
   "cell_type": "code",
   "execution_count": 79,
   "metadata": {},
   "outputs": [
    {
     "data": {
      "text/plain": "(32.52345834488424, 33.05365708767622)"
     },
     "execution_count": 79,
     "metadata": {},
     "output_type": "execute_result"
    }
   ],
   "source": [
    "# Your code here:\n",
    "std=statistics.stdev(h_mean)\n",
    "mean=statistics.mean(h_mean)\n",
    "a=0.95\n",
    "e=std/np.sqrt(len(h_mean))\n",
    "stats.t.interval(a,(len(h_mean)-1),loc=mean,scale=e)"
   ]
  },
  {
   "cell_type": "code",
   "execution_count": 78,
   "metadata": {},
   "outputs": [
    {
     "name": "stderr",
     "output_type": "stream",
     "text": "/Users/kforster/anaconda3/lib/python3.7/site-packages/numpy/core/_methods.py:140: RuntimeWarning: Degrees of freedom <= 0 for slice\n  keepdims=keepdims)\n/Users/kforster/anaconda3/lib/python3.7/site-packages/numpy/core/_methods.py:132: RuntimeWarning: invalid value encountered in double_scalars\n  ret = ret.dtype.type(ret / rcount)\n"
    },
    {
     "data": {
      "text/plain": "nan"
     },
     "execution_count": 78,
     "metadata": {},
     "output_type": "execute_result"
    }
   ],
   "source": [
    "stats.sem(mean)"
   ]
  },
  {
   "cell_type": "markdown",
   "metadata": {},
   "source": [
    "Now construct the 95% confidence interval for all salaried employeed in the police in the cell below."
   ]
  },
  {
   "cell_type": "code",
   "execution_count": 80,
   "metadata": {},
   "outputs": [
    {
     "data": {
      "text/plain": "(86526.99656774187, 87047.00301256099)"
     },
     "execution_count": 80,
     "metadata": {},
     "output_type": "execute_result"
    }
   ],
   "source": [
    "# Your code here:\n",
    "std=statistics.stdev(s_mean)\n",
    "mean=statistics.mean(s_mean)\n",
    "a=0.95\n",
    "e=std/np.sqrt(len(s_mean))\n",
    "stats.t.interval(a,(len(s_mean)-1),loc=mean,scale=e)\n"
   ]
  },
  {
   "cell_type": "markdown",
   "metadata": {},
   "source": [
    "# Bonus Challenge - Hypothesis Tests of Proportions\n",
    "\n",
    "Another type of one sample test is a hypothesis test of proportions. In this test, we examine whether the proportion of a group in our sample is significantly different than a fraction. \n",
    "\n",
    "You can read more about one sample proportion tests [here](http://sphweb.bumc.bu.edu/otlt/MPH-Modules/BS/SAS/SAS6-CategoricalData/SAS6-CategoricalData2.html).\n",
    "\n",
    "In the cell below, use the `proportions_ztest` function from `statsmodels` to perform a hypothesis test that will determine whether the number of hourly workers in the City of Chicago is significantly different from 25% at the 95% confidence level."
   ]
  },
  {
   "cell_type": "code",
   "execution_count": 13,
   "metadata": {},
   "outputs": [],
   "source": [
    "# Your code here:\n",
    "\n"
   ]
  }
 ],
 "metadata": {
  "kernelspec": {
   "display_name": "Python 3",
   "language": "python",
   "name": "python3"
  },
  "language_info": {
   "codemirror_mode": {
    "name": "ipython",
    "version": 3
   },
   "file_extension": ".py",
   "mimetype": "text/x-python",
   "name": "python",
   "nbconvert_exporter": "python",
   "pygments_lexer": "ipython3",
   "version": "3.7.3-final"
  }
 },
 "nbformat": 4,
 "nbformat_minor": 2
}